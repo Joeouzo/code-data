{
 "cells": [
  {
   "cell_type": "code",
   "execution_count": null,
   "metadata": {},
   "outputs": [],
   "source": [
    "import os\n",
    "import json\n",
    "import numpy as np\n",
    "import time\n",
    "from Tools.param_calibration import XAJ_paramcalibration, XAJ_paramexamine\n",
    "from Tools.data_processor import load_data_split, TrimNum\n",
    "\n",
    "\"\"\" Load configuration \"\"\"\n",
    "configs = json.load(open(os.path.join(\"configs\", \"model.json\"), \"r\"))\n",
    "data_info = configs[\"data\"]\n",
    "\n",
    "\"\"\" Load training data \"\"\"\n",
    "file_path = os.path.join(\"data\", data_info[\"filename_train\"])\n",
    "datas = load_data_split(file_path, data_info[\"split_index\"])\n",
    "print(\"datas--\", list(datas.items())[0])\n",
    "\n",
    "\"\"\" Process data into required format \"\"\"\n",
    "q_train, p_train = [], []\n",
    "flood_id = list(datas.keys())\n",
    "for data in datas.values():\n",
    "    q_train.append(TrimNum(list(data[data_info[\"columns\"][1]])))\n",
    "    p_train.append(list(data[data_info[\"columns\"][2]]))\n",
    "\n",
    "\"\"\" Retrieve model parameters \"\"\"\n",
    "optimal_param = configs[\"optimal_param\"]\n",
    "parameter_boundary = configs[\"parameter_boundary\"]\n",
    "area = configs[\"area\"]\n",
    "rivernum = configs[\"rivernum\"]\n",
    "\n",
    "\"\"\" Parameter calibration \"\"\"\n",
    "out_1 = XAJ_paramcalibration(parameter_boundary, p_train, q_train, optimal_param, area, rivernum)\n",
    "\n",
    "\"\"\" Parameter validation \"\"\"\n",
    "out_2 = XAJ_paramexamine(parameter_boundary, p_train, q_train, area, rivernum)\n"
   ]
  }
 ],
 "metadata": {
  "kernelspec": {
   "display_name": "Python 3",
   "language": "python",
   "name": "python3"
  },
  "language_info": {
   "name": "python",
   "version": "3.7.5"
  }
 },
 "nbformat": 4,
 "nbformat_minor": 2
}
